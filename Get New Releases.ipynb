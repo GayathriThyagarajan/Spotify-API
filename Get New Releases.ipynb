{
 "cells": [
  {
   "cell_type": "code",
   "execution_count": 2,
   "metadata": {},
   "outputs": [],
   "source": [
    "import spot\n",
    "import json\n",
    "import pandas as pd\n",
    "from pandas.io.json import json_normalize\n",
    "from spot.oauth2 import SpotifyClientCredentials\n",
    "\n",
    "#Passing authorisation details\n",
    "client_credentials_manager = SpotifyClientCredentials(client_id='bd6305a84c734a6aa02652ee28217ffe',\n",
    "                                                      client_secret='cf8901efdd42483b94cb2c982a7085f4')\n",
    "sp = spot.Spotify(client_credentials_manager=client_credentials_manager)\n",
    "\n",
    "#Get new releases from spotify\n",
    "new_release = sp.new_releases(limit=50)\n",
    "results=json_normalize(new_release['albums'],record_path=['items'],sep=\"_\")\n",
    "\n",
    "#Move dictionary to dataframe\n",
    "df = pd.DataFrame.from_dict(results)\n",
    "\n",
    "#Dataframe to CSV file with required columns\n",
    "df.to_csv(\"C:/Users/gayu3sram/Desktop/UCONN PPT & Docs/Github/API/Spotify/newrelease.csv\",index=False,columns=['album_type','id','name','release_date','total_tracks'],sep = ',')\n"
   ]
  },
  {
   "cell_type": "code",
   "execution_count": null,
   "metadata": {
    "scrolled": false
   },
   "outputs": [],
   "source": []
  },
  {
   "cell_type": "code",
   "execution_count": null,
   "metadata": {},
   "outputs": [],
   "source": []
  }
 ],
 "metadata": {
  "kernelspec": {
   "display_name": "Python 3",
   "language": "python",
   "name": "python3"
  },
  "language_info": {
   "codemirror_mode": {
    "name": "ipython",
    "version": 3
   },
   "file_extension": ".py",
   "mimetype": "text/x-python",
   "name": "python",
   "nbconvert_exporter": "python",
   "pygments_lexer": "ipython3",
   "version": "3.7.1"
  }
 },
 "nbformat": 4,
 "nbformat_minor": 2
}
