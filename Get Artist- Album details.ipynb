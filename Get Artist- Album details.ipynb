{
 "cells": [
  {
   "cell_type": "code",
   "execution_count": 7,
   "metadata": {},
   "outputs": [],
   "source": [
    "import spot\n",
    "import sys\n",
    "import pprint\n",
    "import pandas as pd\n",
    "\n",
    "from spot.oauth2 import SpotifyClientCredentials\n",
    "\n",
    "client_credentials_manager = SpotifyClientCredentials(client_id='bd6305a84c734a6aa02652ee28217ffe',\n",
    "                                                      client_secret='cf8901efdd42483b94cb2c982a7085f4')\n",
    "sp = spot.Spotify(client_credentials_manager=client_credentials_manager)"
   ]
  },
  {
   "cell_type": "code",
   "execution_count": 8,
   "metadata": {},
   "outputs": [],
   "source": [
    "#Get albums of an artist with artist id - used ed sheeran for example\n",
    "from pandas.io.json import json_normalize\n",
    "results = sp.artist_albums('6eUKZXaKkcviH0Ku9w2n3V', album_type='album')\n",
    "results1= json_normalize(results['items'],sep=\"_\")\n",
    "spotify_uri = results1.uri\n",
    "#spotify_uri"
   ]
  },
  {
   "cell_type": "code",
   "execution_count": 9,
   "metadata": {},
   "outputs": [],
   "source": [
    "#Function to get album details\n",
    "def albumdata(uri):\n",
    "    album = uri \n",
    "    spotify_albums[album] = {} \n",
    "    spotify_albums[album]['album_type'] = [] \n",
    "    spotify_albums[album]['genres'] = []\n",
    "    spotify_albums[album]['id'] = []\n",
    "    spotify_albums[album]['popularity'] = []\n",
    "    spotify_albums[album]['release_date'] = []\n",
    "    spotify_albums[album]['release_date_precision'] = []\n",
    "    spotify_albums[album]['uri'] = []\n",
    "    \n",
    "    data = sp.album(album) \n",
    "    \n",
    "    spotify_albums[album]['album_type'].append(data['album_type']) \n",
    "    spotify_albums[album]['id'].append(data['id'])\n",
    "    spotify_albums[album]['genres'].append(data['genres'])\n",
    "    spotify_albums[album]['uri'].append(data['uri'])\n",
    "    spotify_albums[album]['popularity'].append(data['popularity'])\n",
    "    spotify_albums[album]['release_date'].append(data['release_date'])\n",
    "    spotify_albums[album]['release_date_precision'].append(data['release_date_precision'])    "
   ]
  },
  {
   "cell_type": "code",
   "execution_count": 13,
   "metadata": {},
   "outputs": [],
   "source": [
    "#Call the function for each album to get details\n",
    "spotify_albums = {}\n",
    "for i in spotify_uri: \n",
    "    albumdata(i)\n",
    "    spotify_albums\n",
    "    \n",
    "df = pd.DataFrame.from_dict(spotify_albums,orient='index')\n",
    "df.to_csv(\"C:/Users/gayu3sram/Desktop/UCONN PPT & Docs/Github/API/Spotify/edsheeran.csv\",index=False,columns=['id','release_date','popularity','uri'],sep = ',')\n"
   ]
  },
  {
   "cell_type": "code",
   "execution_count": null,
   "metadata": {},
   "outputs": [],
   "source": []
  }
 ],
 "metadata": {
  "kernelspec": {
   "display_name": "Python 3",
   "language": "python",
   "name": "python3"
  },
  "language_info": {
   "codemirror_mode": {
    "name": "ipython",
    "version": 3
   },
   "file_extension": ".py",
   "mimetype": "text/x-python",
   "name": "python",
   "nbconvert_exporter": "python",
   "pygments_lexer": "ipython3",
   "version": "3.7.1"
  }
 },
 "nbformat": 4,
 "nbformat_minor": 2
}
